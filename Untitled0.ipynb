{
  "nbformat": 4,
  "nbformat_minor": 0,
  "metadata": {
    "colab": {
      "provenance": []
    },
    "kernelspec": {
      "name": "python3",
      "display_name": "Python 3"
    },
    "language_info": {
      "name": "python"
    }
  },
  "cells": [
    {
      "cell_type": "code",
      "execution_count": 6,
      "metadata": {
        "colab": {
          "base_uri": "https://localhost:8080/"
        },
        "id": "i4FaeFsqI23S",
        "outputId": "a23a58e2-f5d9-4cde-efb4-525ba35abecd"
      },
      "outputs": [
        {
          "output_type": "stream",
          "name": "stdout",
          "text": [
            "Index(['song_song1', 'song_song2', 'song_song3', 'hour_of_day', 'day_of_week',\n",
            "       'song_disco', 'song_rap', 'song_rock', 'song_fork', 'song_pop',\n",
            "       'song_melody'],\n",
            "      dtype='object')\n",
            "Model Accuracy: 0.6666666666666666\n"
          ]
        }
      ],
      "source": [
        "import pandas as pd\n",
        "from sklearn.model_selection import train_test_split\n",
        "from sklearn.ensemble import RandomForestClassifier\n",
        "from sklearn.metrics import accuracy_score\n",
        "from datetime import datetime\n",
        "\n",
        "# Step 1: Data Collection (Example dataset)\n",
        "data = pd.read_csv('/content/spotify.csv')\n",
        "# Step 2: Feature Engineering\n",
        "# One-hot encode 'song_id' feature\n",
        "X = pd.get_dummies(data['song_id'], prefix='song')\n",
        "\n",
        "# Extract relevant features from timestamp (e.g., hour of the day)\n",
        "data['timestamp'] = pd.to_datetime(data['timestamp'], format=\"%d-%m-%Y %H:%M\")  # Convert timestamp to datetime object\n",
        "X['hour_of_day'] = data['timestamp'].dt.hour\n",
        "X['day_of_week'] = data['timestamp'].dt.dayofweek\n",
        "\n",
        "y = data['repeated_play']\n",
        "\n",
        "# Step 3: Model Training\n",
        "# Split data into training and testing sets\n",
        "X_train, X_test, y_train, y_test = train_test_split(X, y, test_size=0.2, random_state=42)\n",
        "\n",
        "# Train a RandomForestClassifier\n",
        "model = RandomForestClassifier(n_estimators=100, random_state=42)\n",
        "model.fit(X_train, y_train)\n",
        "\n",
        "# Step 4: Prediction\n",
        "# Let's say we want to predict for a new user\n",
        "# Here, we also need to one-hot encode the new user's song history\n",
        "new_user_song_history = pd.DataFrame({'song_id': ['song1', 'song2', 'song3'],\n",
        "                                      'timestamp': ['2024-04-27 10:00:00', '2024-04-25 15:30:00', '2024-04-20 08:45:00']})\n",
        "new_user_encoded = pd.get_dummies(new_user_song_history['song_id'], prefix='song')\n",
        "\n",
        "# Extract relevant features from new user's timestamp\n",
        "new_user_song_history['timestamp'] = pd.to_datetime(new_user_song_history['timestamp'])  # Convert timestamp to datetime object\n",
        "new_user_encoded['hour_of_day'] = new_user_song_history['timestamp'].dt.hour\n",
        "new_user_encoded['day_of_week'] = new_user_song_history['timestamp'].dt.dayofweek\n",
        "\n",
        "# Find the missing feature names\n",
        "missing_features = set(X_train.columns) - set(new_user_encoded.columns)\n",
        "\n",
        "# Add the missing features with zero values\n",
        "for feature in missing_features:\n",
        "    new_user_encoded[feature] = 0\n",
        "\n",
        "# Check the updated feature names\n",
        "print(new_user_encoded.columns)\n",
        "\n",
        "# Predict the likelihood of repeated play\n",
        "\n",
        "# Step 5: Evaluation (Optional)\n",
        "# Evaluate the model performance (accuracy)\n",
        "y_pred = model.predict(X_test)\n",
        "accuracy = accuracy_score(y_test, y_pred)\n",
        "print(\"Model Accuracy:\", accuracy)\n",
        "\n",
        "# Step 6: Deployment\n",
        "# Deploy the trained model in the backend system to generate personalized recommendations for users\n",
        "# Actual deployment involves integration with backend systems, databases, and APIs, which is beyond the scope of this example"
      ]
    }
  ]
}